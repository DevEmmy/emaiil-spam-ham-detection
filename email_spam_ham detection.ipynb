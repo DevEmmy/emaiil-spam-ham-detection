{
 "cells": [
  {
   "cell_type": "code",
   "execution_count": 2,
   "id": "f2853bab",
   "metadata": {},
   "outputs": [],
   "source": [
    "import numpy as np\n",
    "import pandas as pd"
   ]
  },
  {
   "cell_type": "code",
   "execution_count": 3,
   "id": "e3415b51",
   "metadata": {},
   "outputs": [],
   "source": [
    "df = pd.read_csv('spam_ham_dataset.csv')"
   ]
  },
  {
   "cell_type": "code",
   "execution_count": 4,
   "id": "5091b92e",
   "metadata": {},
   "outputs": [
    {
     "output_type": "execute_result",
     "data": {
      "text/plain": [
       "      Unnamed: 0 label                                               text  \\\n",
       "0            605   ham  Subject: enron methanol ; meter # : 988291\\r\\n...   \n",
       "1           2349   ham  Subject: hpl nom for january 9 , 2001\\r\\n( see...   \n",
       "2           3624   ham  Subject: neon retreat\\r\\nho ho ho , we ' re ar...   \n",
       "3           4685  spam  Subject: photoshop , windows , office . cheap ...   \n",
       "4           2030   ham  Subject: re : indian springs\\r\\nthis deal is t...   \n",
       "...          ...   ...                                                ...   \n",
       "5166        1518   ham  Subject: put the 10 on the ft\\r\\nthe transport...   \n",
       "5167         404   ham  Subject: 3 / 4 / 2000 and following noms\\r\\nhp...   \n",
       "5168        2933   ham  Subject: calpine daily gas nomination\\r\\n>\\r\\n...   \n",
       "5169        1409   ham  Subject: industrial worksheets for august 2000...   \n",
       "5170        4807  spam  Subject: important online banking alert\\r\\ndea...   \n",
       "\n",
       "      label_num  \n",
       "0             0  \n",
       "1             0  \n",
       "2             0  \n",
       "3             1  \n",
       "4             0  \n",
       "...         ...  \n",
       "5166          0  \n",
       "5167          0  \n",
       "5168          0  \n",
       "5169          0  \n",
       "5170          1  \n",
       "\n",
       "[5171 rows x 4 columns]"
      ],
      "text/html": "<div>\n<style scoped>\n    .dataframe tbody tr th:only-of-type {\n        vertical-align: middle;\n    }\n\n    .dataframe tbody tr th {\n        vertical-align: top;\n    }\n\n    .dataframe thead th {\n        text-align: right;\n    }\n</style>\n<table border=\"1\" class=\"dataframe\">\n  <thead>\n    <tr style=\"text-align: right;\">\n      <th></th>\n      <th>Unnamed: 0</th>\n      <th>label</th>\n      <th>text</th>\n      <th>label_num</th>\n    </tr>\n  </thead>\n  <tbody>\n    <tr>\n      <th>0</th>\n      <td>605</td>\n      <td>ham</td>\n      <td>Subject: enron methanol ; meter # : 988291\\r\\n...</td>\n      <td>0</td>\n    </tr>\n    <tr>\n      <th>1</th>\n      <td>2349</td>\n      <td>ham</td>\n      <td>Subject: hpl nom for january 9 , 2001\\r\\n( see...</td>\n      <td>0</td>\n    </tr>\n    <tr>\n      <th>2</th>\n      <td>3624</td>\n      <td>ham</td>\n      <td>Subject: neon retreat\\r\\nho ho ho , we ' re ar...</td>\n      <td>0</td>\n    </tr>\n    <tr>\n      <th>3</th>\n      <td>4685</td>\n      <td>spam</td>\n      <td>Subject: photoshop , windows , office . cheap ...</td>\n      <td>1</td>\n    </tr>\n    <tr>\n      <th>4</th>\n      <td>2030</td>\n      <td>ham</td>\n      <td>Subject: re : indian springs\\r\\nthis deal is t...</td>\n      <td>0</td>\n    </tr>\n    <tr>\n      <th>...</th>\n      <td>...</td>\n      <td>...</td>\n      <td>...</td>\n      <td>...</td>\n    </tr>\n    <tr>\n      <th>5166</th>\n      <td>1518</td>\n      <td>ham</td>\n      <td>Subject: put the 10 on the ft\\r\\nthe transport...</td>\n      <td>0</td>\n    </tr>\n    <tr>\n      <th>5167</th>\n      <td>404</td>\n      <td>ham</td>\n      <td>Subject: 3 / 4 / 2000 and following noms\\r\\nhp...</td>\n      <td>0</td>\n    </tr>\n    <tr>\n      <th>5168</th>\n      <td>2933</td>\n      <td>ham</td>\n      <td>Subject: calpine daily gas nomination\\r\\n&gt;\\r\\n...</td>\n      <td>0</td>\n    </tr>\n    <tr>\n      <th>5169</th>\n      <td>1409</td>\n      <td>ham</td>\n      <td>Subject: industrial worksheets for august 2000...</td>\n      <td>0</td>\n    </tr>\n    <tr>\n      <th>5170</th>\n      <td>4807</td>\n      <td>spam</td>\n      <td>Subject: important online banking alert\\r\\ndea...</td>\n      <td>1</td>\n    </tr>\n  </tbody>\n</table>\n<p>5171 rows × 4 columns</p>\n</div>"
     },
     "metadata": {},
     "execution_count": 4
    }
   ],
   "source": [
    "df"
   ]
  },
  {
   "cell_type": "code",
   "execution_count": 5,
   "id": "95de4459",
   "metadata": {},
   "outputs": [
    {
     "output_type": "execute_result",
     "data": {
      "text/plain": [
       "                                                   text  label_num\n",
       "0     Subject: enron methanol ; meter # : 988291\\r\\n...          0\n",
       "1     Subject: hpl nom for january 9 , 2001\\r\\n( see...          0\n",
       "2     Subject: neon retreat\\r\\nho ho ho , we ' re ar...          0\n",
       "3     Subject: photoshop , windows , office . cheap ...          1\n",
       "4     Subject: re : indian springs\\r\\nthis deal is t...          0\n",
       "...                                                 ...        ...\n",
       "5166  Subject: put the 10 on the ft\\r\\nthe transport...          0\n",
       "5167  Subject: 3 / 4 / 2000 and following noms\\r\\nhp...          0\n",
       "5168  Subject: calpine daily gas nomination\\r\\n>\\r\\n...          0\n",
       "5169  Subject: industrial worksheets for august 2000...          0\n",
       "5170  Subject: important online banking alert\\r\\ndea...          1\n",
       "\n",
       "[5171 rows x 2 columns]"
      ],
      "text/html": "<div>\n<style scoped>\n    .dataframe tbody tr th:only-of-type {\n        vertical-align: middle;\n    }\n\n    .dataframe tbody tr th {\n        vertical-align: top;\n    }\n\n    .dataframe thead th {\n        text-align: right;\n    }\n</style>\n<table border=\"1\" class=\"dataframe\">\n  <thead>\n    <tr style=\"text-align: right;\">\n      <th></th>\n      <th>text</th>\n      <th>label_num</th>\n    </tr>\n  </thead>\n  <tbody>\n    <tr>\n      <th>0</th>\n      <td>Subject: enron methanol ; meter # : 988291\\r\\n...</td>\n      <td>0</td>\n    </tr>\n    <tr>\n      <th>1</th>\n      <td>Subject: hpl nom for january 9 , 2001\\r\\n( see...</td>\n      <td>0</td>\n    </tr>\n    <tr>\n      <th>2</th>\n      <td>Subject: neon retreat\\r\\nho ho ho , we ' re ar...</td>\n      <td>0</td>\n    </tr>\n    <tr>\n      <th>3</th>\n      <td>Subject: photoshop , windows , office . cheap ...</td>\n      <td>1</td>\n    </tr>\n    <tr>\n      <th>4</th>\n      <td>Subject: re : indian springs\\r\\nthis deal is t...</td>\n      <td>0</td>\n    </tr>\n    <tr>\n      <th>...</th>\n      <td>...</td>\n      <td>...</td>\n    </tr>\n    <tr>\n      <th>5166</th>\n      <td>Subject: put the 10 on the ft\\r\\nthe transport...</td>\n      <td>0</td>\n    </tr>\n    <tr>\n      <th>5167</th>\n      <td>Subject: 3 / 4 / 2000 and following noms\\r\\nhp...</td>\n      <td>0</td>\n    </tr>\n    <tr>\n      <th>5168</th>\n      <td>Subject: calpine daily gas nomination\\r\\n&gt;\\r\\n...</td>\n      <td>0</td>\n    </tr>\n    <tr>\n      <th>5169</th>\n      <td>Subject: industrial worksheets for august 2000...</td>\n      <td>0</td>\n    </tr>\n    <tr>\n      <th>5170</th>\n      <td>Subject: important online banking alert\\r\\ndea...</td>\n      <td>1</td>\n    </tr>\n  </tbody>\n</table>\n<p>5171 rows × 2 columns</p>\n</div>"
     },
     "metadata": {},
     "execution_count": 5
    }
   ],
   "source": [
    "df.drop(['Unnamed: 0', 'label'], axis=1)"
   ]
  },
  {
   "cell_type": "code",
   "execution_count": 6,
   "id": "3098d6cb",
   "metadata": {},
   "outputs": [
    {
     "output_type": "error",
     "ename": "ModuleNotFoundError",
     "evalue": "No module named 'sklearn'",
     "traceback": [
      "\u001b[1;31m---------------------------------------------------------------------------\u001b[0m",
      "\u001b[1;31mModuleNotFoundError\u001b[0m                       Traceback (most recent call last)",
      "\u001b[1;32m<ipython-input-6-9c0b41f7c336>\u001b[0m in \u001b[0;36m<module>\u001b[1;34m\u001b[0m\n\u001b[1;32m----> 1\u001b[1;33m \u001b[1;32mfrom\u001b[0m \u001b[0msklearn\u001b[0m\u001b[1;33m.\u001b[0m\u001b[0mnaive_bayes\u001b[0m \u001b[1;32mimport\u001b[0m \u001b[0mMultinomialNB\u001b[0m\u001b[1;33m\u001b[0m\u001b[1;33m\u001b[0m\u001b[0m\n\u001b[0m\u001b[0;32m      2\u001b[0m \u001b[1;32mfrom\u001b[0m \u001b[0msklearn\u001b[0m\u001b[1;33m.\u001b[0m\u001b[0mfeature_extraction\u001b[0m\u001b[1;33m.\u001b[0m\u001b[0mtext\u001b[0m \u001b[1;32mimport\u001b[0m \u001b[0mCountVectorizer\u001b[0m\u001b[1;33m\u001b[0m\u001b[1;33m\u001b[0m\u001b[0m\n\u001b[0;32m      3\u001b[0m \u001b[1;32mfrom\u001b[0m \u001b[0msklearn\u001b[0m\u001b[1;33m.\u001b[0m\u001b[0mpipeline\u001b[0m \u001b[1;32mimport\u001b[0m \u001b[0mPipeline\u001b[0m\u001b[1;33m\u001b[0m\u001b[1;33m\u001b[0m\u001b[0m\n",
      "\u001b[1;31mModuleNotFoundError\u001b[0m: No module named 'sklearn'"
     ]
    }
   ],
   "source": [
    "from sklearn.naive_bayes import MultinomialNB\n",
    "from sklearn.feature_extraction.text import CountVectorizer\n",
    "from sklearn.pipeline import Pipeline"
   ]
  },
  {
   "cell_type": "code",
   "execution_count": null,
   "id": "55ae66ec",
   "metadata": {},
   "outputs": [],
   "source": [
    "model = Pipeline([\n",
    "    ('vectorizer', CountVectorizer()),\n",
    "    ('nb', MultinomialNB())\n",
    "])"
   ]
  },
  {
   "cell_type": "code",
   "execution_count": 8,
   "id": "e91a1f1e",
   "metadata": {},
   "outputs": [],
   "source": [
    "X = df.text\n",
    "y= df.label_num"
   ]
  },
  {
   "cell_type": "code",
   "execution_count": 20,
   "id": "a3cfa209",
   "metadata": {},
   "outputs": [],
   "source": [
    "from sklearn.model_selection import train_test_split\n",
    "\n",
    "X_train, X_test, y_train, y_test = train_test_split(X,y, test_size=0.25, random_state=12)"
   ]
  },
  {
   "cell_type": "code",
   "execution_count": 21,
   "id": "daf2aaa0",
   "metadata": {},
   "outputs": [
    {
     "data": {
      "text/plain": [
       "Pipeline(steps=[('vectorizer', CountVectorizer()), ('nb', MultinomialNB())])"
      ]
     },
     "execution_count": 21,
     "metadata": {},
     "output_type": "execute_result"
    }
   ],
   "source": [
    "model.fit(X_train, y_train)"
   ]
  },
  {
   "cell_type": "code",
   "execution_count": 29,
   "id": "0b7722e9",
   "metadata": {},
   "outputs": [
    {
     "data": {
      "text/plain": [
       "0.9775715390564579"
      ]
     },
     "execution_count": 29,
     "metadata": {},
     "output_type": "execute_result"
    }
   ],
   "source": [
    "model.score(X_test, y_test)"
   ]
  },
  {
   "cell_type": "code",
   "execution_count": 31,
   "id": "c6ba4365",
   "metadata": {},
   "outputs": [
    {
     "name": "stdout",
     "output_type": "stream",
     "text": [
      "0\n"
     ]
    }
   ],
   "source": [
    "email = [\"i love you\"]\n",
    "\n",
    "pred = model.predict(email)\n",
    "for p in pred:\n",
    "    print(p)"
   ]
  },
  {
   "cell_type": "code",
   "execution_count": 40,
   "id": "503daf92",
   "metadata": {},
   "outputs": [
    {
     "name": "stdout",
     "output_type": "stream",
     "text": [
      "Please Enter the Mail Message : i hate you\n",
      "This email is not a Spam\n"
     ]
    }
   ],
   "source": [
    "def Check_Email_Spam_Ham(email):\n",
    "    pred = model.predict(email)\n",
    "    for p in pred:\n",
    "        if p == '1':\n",
    "            print('This email is a Spam')\n",
    "        else:\n",
    "            print('This email is not a Spam')\n",
    "\n",
    "email_text = input('Please Enter the Mail Message : ')\n",
    "text = []\n",
    "text.append(email_text)\n",
    "Check_Email_Spam_Ham(text)"
   ]
  }
 ],
 "metadata": {
  "kernelspec": {
   "name": "python3",
   "display_name": "Python 3.8.1 32-bit"
  },
  "language_info": {
   "codemirror_mode": {
    "name": "ipython",
    "version": 3
   },
   "file_extension": ".py",
   "mimetype": "text/x-python",
   "name": "python",
   "nbconvert_exporter": "python",
   "pygments_lexer": "ipython3",
   "version": "3.8.1"
  },
  "interpreter": {
   "hash": "7a542ca580817fc4dd55327026e074e2fa0cd470fc5dee9350c2d8b13822db8d"
  }
 },
 "nbformat": 4,
 "nbformat_minor": 5
}